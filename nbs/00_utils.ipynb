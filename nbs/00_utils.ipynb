{
 "cells": [
  {
   "cell_type": "markdown",
   "metadata": {},
   "source": [
    "# Utils\n",
    "\n",
    "> Fill in a module description here"
   ]
  },
  {
   "cell_type": "code",
   "execution_count": null,
   "metadata": {},
   "outputs": [],
   "source": [
    "#| default_exp utils"
   ]
  },
  {
   "cell_type": "code",
   "execution_count": null,
   "metadata": {},
   "outputs": [],
   "source": [
    "#|export\n",
    "import os\n",
    "from fastcore.script import call_parse"
   ]
  },
  {
   "cell_type": "code",
   "execution_count": null,
   "metadata": {},
   "outputs": [],
   "source": [
    "#| export\n",
    "@call_parse\n",
    "def set_api_key(api_key:str)->None:\n",
    "    \"\"\"\n",
    "    Set the API key to be used for the requests\n",
    "    \"\"\"\n",
    "\n",
    "    # write the API key to .elsevier_api_key in the home directory\n",
    "    with open(os.path.expanduser('~/.elsevier_api_key'), 'w') as f:\n",
    "        f.write(api_key)\n",
    "\n",
    "    os.environ['ELSEVIER_API_KEY'] = api_key\n",
    "    print('API key set successfully')\n"
   ]
  }
 ],
 "metadata": {
  "kernelspec": {
   "display_name": "python3",
   "language": "python",
   "name": "python3"
  }
 },
 "nbformat": 4,
 "nbformat_minor": 4
}
