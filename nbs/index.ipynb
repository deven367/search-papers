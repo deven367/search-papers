{
 "cells": [
  {
   "cell_type": "code",
   "execution_count": null,
   "metadata": {},
   "outputs": [],
   "source": [
    "#| hide\n",
    "from search_papers import *"
   ]
  },
  {
   "cell_type": "markdown",
   "metadata": {},
   "source": [
    "# search-papers\n",
    "\n",
    "> search papers using the elsevier API"
   ]
  },
  {
   "cell_type": "markdown",
   "metadata": {},
   "source": [
    "This file will become your README and also the index of your documentation."
   ]
  },
  {
   "cell_type": "markdown",
   "metadata": {},
   "source": [
    "## Install"
   ]
  },
  {
   "cell_type": "markdown",
   "metadata": {},
   "source": [
    "```sh\n",
    "pip install search_papers\n",
    "```"
   ]
  },
  {
   "cell_type": "markdown",
   "metadata": {},
   "source": [
    "## How to use"
   ]
  },
  {
   "cell_type": "markdown",
   "metadata": {},
   "source": [
    "The API has 2 main functions.\n",
    "\n",
    "1. `set_api_key` which takes an API key and sets it for the session.\n",
    "2. `search` which takes a query and returns a list of papers."
   ]
  },
  {
   "cell_type": "markdown",
   "metadata": {},
   "source": [
    "To get an API key, follow the instructions mentioned here &rarr; <https://dev.elsevier.com/apikey/create>"
   ]
  },
  {
   "cell_type": "markdown",
   "metadata": {},
   "source": [
    "## Using the `search` CLI"
   ]
  },
  {
   "cell_type": "markdown",
   "metadata": {},
   "source": [
    "```sh\n",
    "(torch) ➜  search_papers git:(main) ✗ search --help\n",
    "Usage: search [OPTIONS]\n",
    "\n",
    "Options:\n",
    "  -q, --query TEXT            Query string\n",
    "  -p, --publication TEXT      Publication name\n",
    "  -oa, --open_access BOOLEAN  Open access\n",
    "  -o, --offset INTEGER        Offset\n",
    "  -c, --count INTEGER         Number of results\n",
    "  -sb, --sort_by TEXT         Sort by\n",
    "  -csv, --save_to_csv TEXT    Save to csv\n",
    "  --help                      Show this message and exit.\n",
    "```"
   ]
  }
 ],
 "metadata": {
  "kernelspec": {
   "display_name": "python3",
   "language": "python",
   "name": "python3"
  }
 },
 "nbformat": 4,
 "nbformat_minor": 4
}
