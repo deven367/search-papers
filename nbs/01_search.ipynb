{
 "cells": [
  {
   "cell_type": "code",
   "execution_count": null,
   "metadata": {},
   "outputs": [],
   "source": [
    "#|default_exp search"
   ]
  },
  {
   "cell_type": "markdown",
   "metadata": {},
   "source": [
    "# Search\n",
    "> This module contains the main `search` function which searches for the papers in the ScienceDirect database\n",
    "- skip_showdoc: true\n",
    "- skip_exec: true"
   ]
  },
  {
   "cell_type": "code",
   "execution_count": null,
   "metadata": {},
   "outputs": [],
   "source": [
    "#|export\n",
    "import json\n",
    "import os\n",
    "\n",
    "import click\n",
    "import numpy as np\n",
    "import pandas as pd\n",
    "import requests"
   ]
  },
  {
   "cell_type": "code",
   "execution_count": null,
   "metadata": {},
   "outputs": [],
   "source": [
    "#|export\n",
    "try:\n",
    "    from dotenv import load_dotenv\n",
    "\n",
    "    load_dotenv()\n",
    "    key = os.getenv(\"ELSEVIER_API_KEY\")\n",
    "    headers = {\n",
    "        \"Content-Type\": \"application/json\",\n",
    "        \"Accept\": \"application/json\",\n",
    "        \"x-els-apikey\": key,\n",
    "    }\n",
    "except KeyError:\n",
    "    raise Exception(\"Please set the ELSEVIER_API_KEY environment variable\")"
   ]
  },
  {
   "cell_type": "code",
   "execution_count": null,
   "metadata": {},
   "outputs": [],
   "source": [
    "#|hide\n",
    "#|export\n",
    "def _fitler_null_authors(authors):\n",
    "    if authors is np.nan:\n",
    "        return 'Author not available'\n",
    "    return ', '.join([i['name'] for i in authors])"
   ]
  },
  {
   "cell_type": "code",
   "execution_count": null,
   "metadata": {},
   "outputs": [],
   "source": [
    "#|hide\n",
    "#|export\n",
    "def _process_response(response):\n",
    "    if response.status_code == 200:\n",
    "        print(\"Total results: \", response.json()[\"resultsFound\"])\n",
    "\n",
    "        json_data = json.loads(response.text)['results']\n",
    "\n",
    "        df = pd.json_normalize(json_data)\n",
    "\n",
    "        df['authors'] = df['authors'].apply(_fitler_null_authors)\n",
    "\n",
    "        return df\n",
    "    elif response.status_code == 404:\n",
    "        print(\"No results found\")\n",
    "        return None\n",
    "\n"
   ]
  },
  {
   "cell_type": "code",
   "execution_count": null,
   "metadata": {},
   "outputs": [],
   "source": [
    "#|export\n",
    "@click.command()\n",
    "@click.option(\"--query\", \"-q\", help=\"Query string\")\n",
    "@click.option(\"--publication\", \"-p\", help=\"Publication name\")\n",
    "@click.option(\"--open_access\", \"-oa\", help=\"Open access\", type=bool, default=False)\n",
    "@click.option(\"--offset\", \"-o\", help=\"Offset\", type=int, default=0)\n",
    "@click.option(\"--count\", \"-c\", help=\"Number of results\", type=int,default=25)\n",
    "@click.option(\"--sort_by\", \"-sb\", help=\"Sort by\", type=str, default=\"date\")\n",
    "@click.option(\"--save_to_csv\", \"-csv\", help=\"Save to csv\", type=str, default=\"results\")\n",
    "def search(query, publication, open_access, offset, count, sort_by, save_to_csv):\n",
    "\n",
    "    json_data = {\n",
    "        \"qs\": query,\n",
    "        \"pub\": publication,\n",
    "        \"filters\": {\n",
    "            \"openAccess\": open_access,\n",
    "        },\n",
    "        \"display\": {\n",
    "            \"offset\": offset,\n",
    "            \"show\": count,\n",
    "            \"sortBy\": sort_by ,\n",
    "        },\n",
    "    }\n",
    "\n",
    "\n",
    "    response = requests.put(\n",
    "        \"https://api.elsevier.com/content/search/sciencedirect\",\n",
    "        headers=headers,\n",
    "        json=json_data,\n",
    "    )\n",
    "    response = _process_response(response)\n",
    "    if response is not None:\n",
    "        name = f\"{query=} {publication=} {open_access=} {offset=} {count=} {sort_by=}\"\n",
    "        response.to_csv(f\"{name}.csv\", index=False)\n",
    "        print(f\"Results saved to {name}.csv\")\n"
   ]
  },
  {
   "cell_type": "code",
   "execution_count": null,
   "metadata": {},
   "outputs": [],
   "source": [
    "#|hide\n",
    "from nbdev.showdoc import show_doc"
   ]
  },
  {
   "cell_type": "code",
   "execution_count": null,
   "metadata": {},
   "outputs": [
    {
     "data": {
      "text/markdown": [
       "---\n",
       "\n",
       "[source](https://github.com/deven367/search-papers/blob/main/search_papers/search.py#L62){target=\"_blank\" style=\"float:right; font-size:smaller\"}\n",
       "\n",
       "### search\n",
       "\n",
       ">      search (query, publication, open_access, offset, count, sort_by,\n",
       ">              save_to_csv)"
      ],
      "text/plain": [
       "---\n",
       "\n",
       "[source](https://github.com/deven367/search-papers/blob/main/search_papers/search.py#L62){target=\"_blank\" style=\"float:right; font-size:smaller\"}\n",
       "\n",
       "### search\n",
       "\n",
       ">      search (query, publication, open_access, offset, count, sort_by,\n",
       ">              save_to_csv)"
      ]
     },
     "execution_count": null,
     "metadata": {},
     "output_type": "execute_result"
    }
   ],
   "source": [
    "show_doc(search.callback)"
   ]
  },
  {
   "cell_type": "code",
   "execution_count": null,
   "metadata": {},
   "outputs": [],
   "source": []
  }
 ],
 "metadata": {
  "kernelspec": {
   "display_name": "python3",
   "language": "python",
   "name": "python3"
  }
 },
 "nbformat": 4,
 "nbformat_minor": 2
}
